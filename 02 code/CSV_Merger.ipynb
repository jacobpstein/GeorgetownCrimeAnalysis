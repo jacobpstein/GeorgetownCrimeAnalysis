{
 "cells": [
  {
   "cell_type": "markdown",
   "id": "20ef56eb",
   "metadata": {},
   "source": [
    "## Step One: Import Libraries"
   ]
  },
  {
   "cell_type": "code",
   "execution_count": null,
   "id": "ef980643",
   "metadata": {},
   "outputs": [],
   "source": [
    "import pandas as pd\n",
    "import glob\n",
    "import datetime"
   ]
  },
  {
   "cell_type": "markdown",
   "id": "353a077e",
   "metadata": {},
   "source": [
    "## Step Two: Specify folder path that contains the CSVs you would like to merge"
   ]
  },
  {
   "cell_type": "code",
   "execution_count": null,
   "id": "ec71c409",
   "metadata": {},
   "outputs": [],
   "source": [
    "folder = 'folder path location here'"
   ]
  },
  {
   "cell_type": "markdown",
   "id": "b6bd3c0b",
   "metadata": {},
   "source": [
    "## Step Three: Run function to glob and merge all CSVs (dateframes) into one combined CSV (dateframe) and export results"
   ]
  },
  {
   "cell_type": "code",
   "execution_count": null,
   "id": "1cf8d255",
   "metadata": {},
   "outputs": [],
   "source": [
    "then = datetime.datetime.now()\n",
    "all_files = glob.glob(folder + '/*.csv')\n",
    "\n",
    "list_dfs = []\n",
    "\n",
    "for file in all_files:\n",
    "    df = pd.read_csv(file, index_col = None, header = 0)\n",
    "    list_dfs.append(df)\n",
    "    print(file)\n",
    "\n",
    "combined = pd.concat(list_dfs, axis=0, ignore_index=True, sort=True)\n",
    "combined = combined.drop_duplicates() \n",
    "\n",
    "print('Rows: ', combined.shape[0])\n",
    "print('Columns: ', combined.shape[1])\n",
    "combined.to_csv(folder + '/combined_file.csv', index = False)\n",
    "duration = datetime.datetime.now() - then\n",
    "print('Merge and Export Complete')\n",
    "print('Duration: ', str(duration))"
   ]
  },
  {
   "cell_type": "code",
   "execution_count": null,
   "id": "213b3fcf",
   "metadata": {},
   "outputs": [],
   "source": []
  }
 ],
 "metadata": {
  "kernelspec": {
   "display_name": "Python 3 (ipykernel)",
   "language": "python",
   "name": "python3"
  },
  "language_info": {
   "codemirror_mode": {
    "name": "ipython",
    "version": 3
   },
   "file_extension": ".py",
   "mimetype": "text/x-python",
   "name": "python",
   "nbconvert_exporter": "python",
   "pygments_lexer": "ipython3",
   "version": "3.8.13"
  }
 },
 "nbformat": 4,
 "nbformat_minor": 5
}
